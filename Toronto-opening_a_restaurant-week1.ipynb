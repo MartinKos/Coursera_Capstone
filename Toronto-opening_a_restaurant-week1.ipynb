{
 "cells": [
  {
   "cell_type": "markdown",
   "metadata": {},
   "source": [
    "# Finding the best neighborhood to open a new restaurant in Toronto."
   ]
  },
  {
   "cell_type": "markdown",
   "metadata": {},
   "source": [
    "## 1. Introduction and description of the business problem."
   ]
  },
  {
   "cell_type": "markdown",
   "metadata": {},
   "source": [
    "One of the most important factors determining a success in opening and running a restaurant business is the location. The most suitable location can be characterised by the following criteria: \n",
    "- sizable population\n",
    "- positive population growth in the last years\n",
    "- higher income\n",
    "- low number of restaurants in the vicinity (restaurants per person). \n",
    "\n",
    "In addition, other regional characteristics, such as the biggest minority population (other cultures) can also affect the suitability for a restaurant with a particular cuisine. \n",
    "Therefore, the question to be solved is to **identify neighborhoods with the lowest ratio of restaurants per population, ideally with high income and still growing population** (e.g. newly developing areas). \n"
   ]
  },
  {
   "cell_type": "markdown",
   "metadata": {},
   "source": [
    "## 2. Data sources, analysis and handling."
   ]
  },
  {
   "cell_type": "markdown",
   "metadata": {},
   "source": [
    "In order to answer identify the best place to open a restaurant, I will rank all the neighborhoods based on the following criteria:\n",
    "- number of restaurants within 2 km per population (lower is better)\n",
    "- median income in the neighborhood (higher is better)\n",
    "- population growth in recent years (higher is better).\n",
    "\n",
    "The lowest sum of the positions in the three rankings above will identify the best place. \n",
    "\n",
    "I will obtain the data about restaurants within the 2 km radius of each neighborhood from the Foursquare location data. In addition, the demographics data for the Toronto neighborhoods will be obtained from the Wikipedia page [Demographics_of_Toronto_neighbourhoods](https://en.wikipedia.org/wiki/Demographics_of_Toronto_neighbourhoods). This data provides information about the population, growth/decline of population, average income, second most common language for all the neighborhoods. \n",
    "\n",
    "I will fuse the data obtained from the two sources into a master table containing all the relevant data. This will be used for ranking. A clustering analysis can be also performed in order to explore the similarity between different neighborhoods. "
   ]
  }
 ],
 "metadata": {
  "kernelspec": {
   "display_name": "Python 3",
   "language": "python",
   "name": "python3"
  },
  "language_info": {
   "codemirror_mode": {
    "name": "ipython",
    "version": 3
   },
   "file_extension": ".py",
   "mimetype": "text/x-python",
   "name": "python",
   "nbconvert_exporter": "python",
   "pygments_lexer": "ipython3",
   "version": "3.6.6"
  }
 },
 "nbformat": 4,
 "nbformat_minor": 2
}
